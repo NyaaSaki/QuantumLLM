{
 "cells": [
  {
   "cell_type": "code",
   "execution_count": 1,
   "metadata": {},
   "outputs": [
    {
     "name": "stdout",
     "output_type": "stream",
     "text": [
      "Requirement already satisfied: seaborn in c:\\users\\shado\\appdata\\local\\programs\\python\\python311\\lib\\site-packages (0.13.1)\n",
      "Requirement already satisfied: numpy!=1.24.0,>=1.20 in c:\\users\\shado\\appdata\\local\\programs\\python\\python311\\lib\\site-packages (from seaborn) (1.24.3)\n",
      "Requirement already satisfied: pandas>=1.2 in c:\\users\\shado\\appdata\\local\\programs\\python\\python311\\lib\\site-packages (from seaborn) (2.2.0)\n",
      "Requirement already satisfied: matplotlib!=3.6.1,>=3.4 in c:\\users\\shado\\appdata\\local\\programs\\python\\python311\\lib\\site-packages (from seaborn) (3.8.2)\n",
      "Requirement already satisfied: contourpy>=1.0.1 in c:\\users\\shado\\appdata\\local\\programs\\python\\python311\\lib\\site-packages (from matplotlib!=3.6.1,>=3.4->seaborn) (1.2.0)\n",
      "Requirement already satisfied: cycler>=0.10 in c:\\users\\shado\\appdata\\local\\programs\\python\\python311\\lib\\site-packages (from matplotlib!=3.6.1,>=3.4->seaborn) (0.12.1)\n",
      "Requirement already satisfied: fonttools>=4.22.0 in c:\\users\\shado\\appdata\\local\\programs\\python\\python311\\lib\\site-packages (from matplotlib!=3.6.1,>=3.4->seaborn) (4.47.2)\n",
      "Requirement already satisfied: kiwisolver>=1.3.1 in c:\\users\\shado\\appdata\\local\\programs\\python\\python311\\lib\\site-packages (from matplotlib!=3.6.1,>=3.4->seaborn) (1.4.5)\n",
      "Requirement already satisfied: packaging>=20.0 in c:\\users\\shado\\appdata\\local\\programs\\python\\python311\\lib\\site-packages (from matplotlib!=3.6.1,>=3.4->seaborn) (23.1)\n",
      "Requirement already satisfied: pillow>=8 in c:\\users\\shado\\appdata\\local\\programs\\python\\python311\\lib\\site-packages (from matplotlib!=3.6.1,>=3.4->seaborn) (9.5.0)\n",
      "Requirement already satisfied: pyparsing>=2.3.1 in c:\\users\\shado\\appdata\\local\\programs\\python\\python311\\lib\\site-packages (from matplotlib!=3.6.1,>=3.4->seaborn) (3.1.1)\n",
      "Requirement already satisfied: python-dateutil>=2.7 in c:\\users\\shado\\appdata\\local\\programs\\python\\python311\\lib\\site-packages (from matplotlib!=3.6.1,>=3.4->seaborn) (2.8.2)\n",
      "Requirement already satisfied: pytz>=2020.1 in c:\\users\\shado\\appdata\\local\\programs\\python\\python311\\lib\\site-packages (from pandas>=1.2->seaborn) (2023.3.post1)\n",
      "Requirement already satisfied: tzdata>=2022.7 in c:\\users\\shado\\appdata\\local\\programs\\python\\python311\\lib\\site-packages (from pandas>=1.2->seaborn) (2023.4)\n",
      "Requirement already satisfied: six>=1.5 in c:\\users\\shado\\appdata\\local\\programs\\python\\python311\\lib\\site-packages (from python-dateutil>=2.7->matplotlib!=3.6.1,>=3.4->seaborn) (1.16.0)\n",
      "Note: you may need to restart the kernel to use updated packages.\n"
     ]
    },
    {
     "name": "stderr",
     "output_type": "stream",
     "text": [
      "\n",
      "[notice] A new release of pip available: 22.3.1 -> 23.3.2\n",
      "[notice] To update, run: python.exe -m pip install --upgrade pip\n"
     ]
    }
   ],
   "source": [
    "%pip install seaborn"
   ]
  },
  {
   "cell_type": "code",
   "execution_count": 2,
   "metadata": {},
   "outputs": [],
   "source": [
    "\n",
    "import seaborn as sb\n",
    "import pennylane as qml\n",
    "from pennylane import numpy as np\n",
    "from pennylane import qaoa\n",
    "import cmath\n",
    "import matplotlib.pyplot as plt\n"
   ]
  },
  {
   "cell_type": "code",
   "execution_count": 3,
   "metadata": {},
   "outputs": [],
   "source": [
    "import torch"
   ]
  },
  {
   "cell_type": "code",
   "execution_count": 4,
   "metadata": {},
   "outputs": [
    {
     "name": "stdout",
     "output_type": "stream",
     "text": [
      "[1.0, -0.1, 1.0, 1.0, 1.0, 1.0, 1.0, 1.0, 1.0, -0.1, -0.1, 1.0, -0.1, 1.0, 1.0, 1.0]\n"
     ]
    }
   ],
   "source": [
    "\n",
    "def bitwise_input(input,n_max = 16):  \n",
    "    bits = []\n",
    "    for i in bin(input)[2:]:\n",
    "        bits.append((int(i)*1.1)-0.1)\n",
    "    # filling\n",
    "    for _ in range(n_max - len(bits)):\n",
    "        bits.append(0)\n",
    "    return bits[:n_max]\n",
    "\n",
    "print(bitwise_input(25112313))"
   ]
  },
  {
   "cell_type": "code",
   "execution_count": 170,
   "metadata": {},
   "outputs": [],
   "source": [
    "qbits = 16\n",
    "depth = 1\n",
    "\n",
    "dev = qml.device(\"default.qubit\", wires=qbits,shots = 2)\n",
    "\n",
    "@qml.qnode(dev)\n",
    "def qnode(inputs,weights):\n",
    "    #print(weights)\n",
    "    weights = weights.reshape(depth,qbits)\n",
    "    qml.AngleEmbedding(bitwise_input(inputs,qbits),wires = range(qbits))\n",
    "    qml.BasicEntanglerLayers(weights, wires=range(qbits))\n",
    "    for i in range(depth):\n",
    "        #qml.Snapshot()\n",
    "        # Parameterised layer\n",
    "        for y in range(qbits):\n",
    "            qml.RY(weights[i][y], wires=y)\n",
    "\n",
    "        # Control Z gates\n",
    "        for y in range(qbits - 1):\n",
    "            qml.CZ(wires=[y, y + 1])\n",
    "    #qml.Snapshot()\n",
    "    output = []\n",
    "    \n",
    "    for i in range(qbits):   \n",
    "        output.append(qml.expval(qml.PauliZ(i)))\n",
    "    return output\n",
    "#qml.sample(qml.PauliY(0))\n",
    "# [qml.expval(qml.PauliZ(wires=i)) for i in range(n_qubits)] \n",
    "# qml.probs(wires=list(range(qbits)))\n",
    "\n",
    "weight_shapes = {\"weights\": (depth, qbits)}\n",
    "qlayer = qml.qnn.TorchLayer(qnode,weight_shapes)\n",
    "model = torch.nn.Sequential(*[qlayer])\n",
    "    "
   ]
  },
  {
   "cell_type": "code",
   "execution_count": 171,
   "metadata": {},
   "outputs": [],
   "source": [
    "opt = torch.optim.SGD(model.parameters(), lr=0.2)"
   ]
  },
  {
   "cell_type": "code",
   "execution_count": 172,
   "metadata": {},
   "outputs": [],
   "source": [
    "#!pip install seaborn freetype\n"
   ]
  },
  {
   "cell_type": "code",
   "execution_count": 173,
   "metadata": {},
   "outputs": [],
   "source": [
    "testrange = 20\n",
    "out = []\n",
    "for i in range(testrange):\n",
    "    inp = torch.tensor(12502)\n",
    "    out.append(model(inp).numpy().tolist())\n",
    "#out = model(inp).numpy().tolist()"
   ]
  },
  {
   "cell_type": "code",
   "execution_count": 174,
   "metadata": {},
   "outputs": [
    {
     "name": "stdout",
     "output_type": "stream",
     "text": [
      "0.weights tensor([[3.7942, 5.2994, 1.2478, 2.6690, 1.5884, 2.4169, 2.6447, 2.9191, 2.1032,\n",
      "         0.5807, 4.8174, 5.1270, 5.6105, 1.4484, 5.7314, 4.2068]])\n"
     ]
    }
   ],
   "source": [
    "for name, param in model.named_parameters():\n",
    "    if param.requires_grad:\n",
    "        print(name, param.data)"
   ]
  },
  {
   "cell_type": "code",
   "execution_count": 175,
   "metadata": {},
   "outputs": [
    {
     "name": "stdout",
     "output_type": "stream",
     "text": [
      "[[-1, 0, -1, 0, 0, -1, -1, 0, 0, 1, 0, 0, -1, 0, 1, 0], [0, 0, 0, -1, 1, 1, -1, -1, -1, 1, 1, 1, 1, -1, 0, 1], [0, 0, 0, 0, -1, -1, 0, 0, 0, 0, 0, -1, -1, 0, 0, 0], [0, 0, 0, 0, 0, -1, -1, 0, 0, 0, 0, -1, -1, -1, 0, -1], [-1, 1, 0, 1, -1, 0, 0, 0, 0, 0, 0, -1, 0, 0, 1, 0], [0, -1, 1, 1, -1, 0, 0, 1, -1, 0, 0, 0, 0, 0, 0, -1], [0, 0, -1, 0, 0, 0, 0, 1, 1, 0, 1, -1, 0, 1, 0, -1], [-1, 0, 1, 0, 0, 1, 0, -1, 0, -1, -1, 0, 1, 0, 1, 0], [1, 1, 0, -1, 0, 0, 1, 0, 0, 0, -1, 0, 0, 0, -1, 0], [0, 0, 0, 0, 0, 1, 0, -1, -1, 1, -1, -1, 0, 0, 1, 0], [-1, 1, 0, 0, 0, 1, 1, 0, 0, 1, 0, 0, 1, 1, 1, 0], [0, -1, 0, 1, 0, -1, 1, -1, 1, 1, 0, 1, -1, -1, 0, 0], [-1, -1, 0, 1, -1, 0, 1, -1, 0, 0, -1, 0, -1, -1, -1, 1], [0, -1, 0, -1, -1, 0, 0, -1, 0, 0, 0, 0, -1, -1, 1, 0], [0, 0, -1, 0, 0, 0, 1, 0, 0, -1, 1, -1, 1, 1, 1, 1], [1, 0, 1, 1, -1, 0, 0, 0, -1, 0, 0, 0, 0, 0, -1, -1], [1, -1, 0, 0, -1, 1, 0, 0, -1, 0, -1, 1, 0, 1, -1, -1], [0, -1, 0, -1, -1, 0, -1, 0, 0, 1, 1, -1, -1, -1, 0, 0], [0, -1, 0, 0, 0, 0, 0, 1, -1, 0, -1, 1, 0, 0, 0, -1], [1, 1, -1, -1, 0, 1, 0, 1, 1, 0, 0, 1, -1, 0, 0, -1]]\n"
     ]
    }
   ],
   "source": [
    "print(out)\n",
    "#read = qml.snapshots(qlayer)(torch.tensor(25234))[0].numpy().real"
   ]
  },
  {
   "cell_type": "code",
   "execution_count": 176,
   "metadata": {},
   "outputs": [
    {
     "data": {
      "text/plain": [
       "<Axes: >"
      ]
     },
     "execution_count": 176,
     "metadata": {},
     "output_type": "execute_result"
    },
    {
     "data": {
      "image/png": "[encoded data removed]",
      "text/plain": [
       "<Figure size 640x480 with 2 Axes>"
      ]
     },
     "metadata": {},
     "output_type": "display_data"
    }
   ],
   "source": [
    "sb.heatmap(out,cmap= sb.color_palette(\"coolwarm\"))"
   ]
  },
  {
   "cell_type": "code",
   "execution_count": 177,
   "metadata": {},
   "outputs": [
    {
     "name": "stdout",
     "output_type": "stream",
     "text": [
      "-0.1875\n",
      "0.125\n",
      "-0.25\n",
      "-0.375\n",
      "0.0\n",
      "-0.0625\n",
      "0.0625\n",
      "0.0\n",
      "0.0\n",
      "-0.0625\n",
      "0.375\n",
      "0.0\n",
      "-0.3125\n",
      "-0.3125\n",
      "0.1875\n",
      "-0.0625\n"
     ]
    }
   ],
   "source": [
    "for i in range(len(out[0])):\n",
    "    print(np.mean(out[:][i]))"
   ]
  }
 ],
 "metadata": {
  "kernelspec": {
   "display_name": "base",
   "language": "python",
   "name": "python3"
  },
  "language_info": {
   "codemirror_mode": {
    "name": "ipython",
    "version": 3
   },
   "file_extension": ".py",
   "mimetype": "text/x-python",
   "name": "python",
   "nbconvert_exporter": "python",
   "pygments_lexer": "ipython3",
   "version": "3.11.3"
  },
  "orig_nbformat": 4
 },
 "nbformat": 4,
 "nbformat_minor": 2
}
